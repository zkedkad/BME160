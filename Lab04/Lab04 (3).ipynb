{
 "cells": [
  {
   "cell_type": "markdown",
   "metadata": {
    "slideshow": {
     "slide_type": "slide"
    }
   },
   "source": [
    "# Lab 04 Files and Modules\n",
    "\n",
    "# Deliverables (50 pts total):\n",
    " - sequenceAnalysis.py module - 31 total points\n",
    " - classes included: \n",
    "     - NucParams, \n",
    "     - ProteinParams, \n",
    "     - FastAreader\n",
    " - genomeAnalyzer.py - 15 total points\n",
    " - Lab 4 notebook with Inspection Intro Cell and Inspection Results Cell completed( 4 pts)\n",
    " - possible extra credit - 10 additional points\n",
    " - Due: Monday February 6, 2022 11:55pm\n",
    "\n",
    "\n",
    "Congratulations. You have started to build an inventory of some pretty useful functions.  Because these are written as classes, you can easily reuse them. Your ProteinParam class is your first deposit into your very own sequenceAnalysis toolkit.  In Python, these toolkits are called modules.\n",
    "\n",
    "We are also going to start using real sequence files.  The fastA format, described here: en.wikipedia.org/wiki/FASTA_format is very convenient to use and fully capable of storing sequences of many types. You will be reading these from an input file for this assignment.\n",
    "\n",
    "## Genomic analysis\n",
    "\n",
    "There are a few things that we can do that mirror and extend the analyses that we did previously on protein sequences. We can calculate composition statistics on the genome (gc content for example), we can calculate relative codon usage in the genome, and we can calculate amino acid composition by translating those codons used the genome.\n",
    "\n",
    "For this lab, I have provided a NucParams class, with the required methods that it implements (see below). You will need to design and write those methods, and these are to be placed in a file called sequenceAnalysis.py This is a __*module*__ that you can use from now on.\n",
    "\n",
    "You will also need to place the ProteinParams class from Lab 3 into this module. This class will not be used for this assignment, but place it into your toolbox.\n",
    "\n",
    "I have written the FastAreader class.  It is included below. Keep it as is part of your module for now, you may decide to keep it somewhere else later.\n",
    "\n",
    "The input file for this assignment will be named testGenome.fa, and is available in Canvas. You will not need to submit testGenome.fa, but it will be necessary for your testing.  For development and testing, create a new directory (Lab04) and place the data file (testGenome.fa), your Lab04 notebook, your program (genomeAnalyzer.py), your new module (sequenceAnalysis.py).\n",
    "\n",
    "\n",
    "## Hints\n",
    "\n",
    " - Python modules have the .py extension as files, but when they are imported, the name without the extension is used in the import statement in your program.\n",
    "\n",
    " - File placement: Make sure to place your notebook, program, sequenceAnalysis module and the required data files in the same folder. This will allow Python to find them. Read over the FastAreader usage to see how to specify file names that you can use for your data.\n",
    "\n",
    "## Codon frequency calculations\n",
    "\n",
    "Notice that NucParams does all of the counting you need. It is responsible for counts of codons and their translated amino acids.\n",
    "\n",
    "Your genomeAnalyzer.py program has the task of determining which codons are preferred for each of the amino acids and calculating the relative percentage.  For any given amino acid, the relative codon usage (percentages) should sum to 100.0%. Notice that Methionine and Tryptophan only have 1 codon that codes for those, so these will have relative codon usages of 100%.\n",
    "\n",
    "For example: Lysine is coded by both AAA (607) and AAG (917) (example counts in parentheses).  From our aaComposition() method, we are given the aaComposition dictionary and we can lookup 'K' to find 1524 counts (these came from those 607+917 codons).  We can then calculate 607/1524 for AAA and 917/1524 for AAG.  The associated percentages are thus: 39.8 for AAA and 60.2 for AAG.\n",
    "\n",
    "AAA = 607/1524 * 100 = 39.8%\n",
    "\n",
    "AAG = 917/1524 * 100 = 60.2%\n",
    "\n",
    "\n",
    "## Design specification - sequenceAnalysis.py\n",
    "\n",
    "### NucParams class\n",
    "\n",
    "#### \\_\\_init\\_\\_\n",
    "\n",
    "The constructor of the class has one optional parameter, a sequence of type string. It may include upper or lower case letters of the set {ACGTUN} or whitespace.  These will be gene sequences and they begin in frame 1.  In other words the first 3 letters of the sequence encode the first AA of the sequence. Carefully consider in what form this class should maintain its data. Is a string the best structure? This class (NucParams) is intended to be very similar to ProteinParam. Make sure to read addSequence() before making this decision, and remember that objects of this class may need to handle an arbitrarily large number of sequences (hint:  dictionaries are good). As a second hint, notice that __init__ and addSequence are doing VERY similar things - you could just make one of them do most of the work.\n",
    "\n",
    "#### addSequence() - 5 pts\n",
    "\n",
    "This method must accept new sequences, from the {ACGTUN} alphabet, and each sequence can be presumed to start in frame 1. This data must be added to the data that you were given with the __init__ method (if any).\n",
    "\n",
    "#### aaComposition() - 6 pts\n",
    "\n",
    "This method will return a dictionary of counts over the 20 amino acids and stop codons.  This dictionary is VERY similar to the lab 3 aaComposition, though you must decode the codon first. The translation table from codon to AA is provided. You are counting amino acids by translating from the proper codon table.\n",
    "\n",
    "#### nucComposition() - 10 pts\n",
    "\n",
    "This method returns a dictionary of counts of valid nucleotides found in the analysis. (ACGTNU}. If you were given RNA nucleotides, they should be counted as RNA nucleotides. If you were given DNA nucleotides, they should be counted as DNA nucleotides. Any N bases found should be counted also. Invalid bases are to be ignored in this dictionary.\n",
    "\n",
    "#### codonComposition() - 10 pts\n",
    "\n",
    "This dictionary returns counts of codons. Presume that sequences start in frame 1, accept the alphabet {ACGTUN} and store codons in RNA format, along with their counts. __Any codons found with invalid bases should be discarded__. Discard codons that contain N bases. This means that all codon counts are stored as RNA codons, even if the input happens to be DNA. If you discard a codon, make sure to not alter the frame of subsequent codons.\n",
    "\n",
    "#### nucCount()\n",
    "\n",
    "This returns an integer value, summing every valid nucleotide {ACGTUN} found.  This value should exactly equal the sum over the nucleotide composition dictionary."
   ]
  },
  {
   "cell_type": "markdown",
   "metadata": {
    "slideshow": {
     "slide_type": "slide"
    }
   },
   "source": [
    "## Design specification - genomeAnalyzer.py\n",
    "\n",
    "This program must import your sequenceAnalysis module.\n",
    "It is responsible for preparing the summaries and final display of the data.\n",
    "\n",
    "## Input must be from STDIN\n",
    "Your FastaReader object will read data from sys.stdin if it is not given a filename. Notice that the filename is specified as a parameter to your main() function. See the last line of the cell containing main() in this notebook:\n",
    " - main( 'testGenome.fa').\n",
    "\n",
    "When you move main() to genomeAnalyzer.py, you can delete the parameter:\n",
    " - main()\n",
    " this will cause the filename parameter to be *None* (default parameter) and your FastaReader object will interpret a filename of *None* as a request to use sys.stdin. ( see the doOpen() method for further info).\n",
    "\n",
    "Your notebook will be used for inspections. For the notebook, you will need to specify the input filename. For genomeAnalyzer.py, you will need to delete the parameter.\n",
    "\n",
    "\n",
    "### Output format - 15 pts\n",
    "\n",
    "The function to output the results of your analysis has specific formatting rules that you must follow to get full credit. These rules are as follows:\n",
    "\n",
    " - First line: sequence length = X.XX Mb with two digits after the decimal and labeled Mb (you need to calculate the number of bases in Mb).\n",
    " - second line is blank\n",
    " - third line: GC content = XX.X% as a percentage with one digit after the decimal\n",
    " - fourth line is blank\n",
    " - lines 5 - 68 are the output statistics on relative codon usage for each codon ordered by codon within each amino acid group as follows:"
   ]
  },
  {
   "cell_type": "raw",
   "metadata": {},
   "source": [
    "XXX : A F (D)"
   ]
  },
  {
   "cell_type": "markdown",
   "metadata": {},
   "source": [
    "where XXX is the three letters for an RNA codon, A is the 1-letter amino acid code, F is relative codon frequency, use {:5.1f} for the format, and D is for codon count, use the format {:6d}. There is a single space between each of these fields.\n",
    "For example ( this is not representative of any real genome ):"
   ]
  },
  {
   "cell_type": "raw",
   "metadata": {},
   "source": [
    "sequence length = 3.14 Mb\n",
    "\n",
    "GC content = 60.2%\n",
    "\n",
    "UAA : -  32.6 (  1041)\n",
    "UAG : -  38.6 (  1230)\n",
    "UGA : -  28.8 (   918)\n",
    "GCA : A  14.1 ( 10605)\n",
    "GCC : A  40.5 ( 30524)\n",
    "GCG : A  30.5 ( 22991)\n",
    "GCU : A  14.9 ( 11238)\n",
    "UGC : C  67.2 (  4653)\n",
    "UGU : C  32.8 (  2270)\n",
    "\n",
    "..."
   ]
  },
  {
   "cell_type": "markdown",
   "metadata": {
    "slideshow": {
     "slide_type": "slide"
    }
   },
   "source": [
    "To get full credit on this assignment, your code needs to:\n",
    " - Run properly (execute and produce the correct output). \n",
    " - Include any assumptions or design decisions you made in writing your code\n",
    " - contain proper docstrings for the program, classes, modules and any public functions.\n",
    " - Contain in-line comments\n",
    " \n",
    "## Extra credit - 10 pts possible\n",
    "\n",
    "You now have a very powerful set of classes for evaluating genomes. Write a compareGenomes.py program that compares GC content, aaComposition and relative codon bias of 2 genomes. You will have a halophile genome and a hyperthermophile genome to compare.\n",
    "\n",
    "Submit your code using canvas\n",
    "\n",
    "Congratulations, you have finished your fourth lab assignment!"
   ]
  },
  {
   "cell_type": "markdown",
   "metadata": {
    "nteract": {
     "transient": {
      "deleting": false
     }
    }
   },
   "source": [
    "## Inspection Intro\n",
    "Provide design level information for your inspection team here. How do you input data to avoid having to read every sequence from the genome into memory? Where are your composition dictionaries initialized? How does data get added to those composition dictionaries?"
   ]
  },
  {
   "cell_type": "markdown",
   "metadata": {
    "slideshow": {
     "slide_type": "slide"
    }
   },
   "source": [
    "## Nuc Params"
   ]
  },
  {
   "cell_type": "code",
   "execution_count": 2,
   "metadata": {
    "slideshow": {
     "slide_type": "slide"
    }
   },
   "outputs": [],
   "source": [
    "class NucParams:\n",
    "    rnaCodonTable = {\n",
    "    # RNA codon table\n",
    "    # U\n",
    "    'UUU': 'F', 'UCU': 'S', 'UAU': 'Y', 'UGU': 'C',  # UxU\n",
    "    'UUC': 'F', 'UCC': 'S', 'UAC': 'Y', 'UGC': 'C',  # UxC\n",
    "    'UUA': 'L', 'UCA': 'S', 'UAA': '-', 'UGA': '-',  # UxA\n",
    "    'UUG': 'L', 'UCG': 'S', 'UAG': '-', 'UGG': 'W',  # UxG\n",
    "    # C\n",
    "    'CUU': 'L', 'CCU': 'P', 'CAU': 'H', 'CGU': 'R',  # CxU\n",
    "    'CUC': 'L', 'CCC': 'P', 'CAC': 'H', 'CGC': 'R',  # CxC\n",
    "    'CUA': 'L', 'CCA': 'P', 'CAA': 'Q', 'CGA': 'R',  # CxA\n",
    "    'CUG': 'L', 'CCG': 'P', 'CAG': 'Q', 'CGG': 'R',  # CxG\n",
    "    # A\n",
    "    'AUU': 'I', 'ACU': 'T', 'AAU': 'N', 'AGU': 'S',  # AxU\n",
    "    'AUC': 'I', 'ACC': 'T', 'AAC': 'N', 'AGC': 'S',  # AxC\n",
    "    'AUA': 'I', 'ACA': 'T', 'AAA': 'K', 'AGA': 'R',  # AxA\n",
    "    'AUG': 'M', 'ACG': 'T', 'AAG': 'K', 'AGG': 'R',  # AxG\n",
    "    # G\n",
    "    'GUU': 'V', 'GCU': 'A', 'GAU': 'D', 'GGU': 'G',  # GxU\n",
    "    'GUC': 'V', 'GCC': 'A', 'GAC': 'D', 'GGC': 'G',  # GxC\n",
    "    'GUA': 'V', 'GCA': 'A', 'GAA': 'E', 'GGA': 'G',  # GxA\n",
    "    'GUG': 'V', 'GCG': 'A', 'GAG': 'E', 'GGG': 'G'  # GxG\n",
    "    }\n",
    "    dnaCodonTable = {key.replace('U','T'):value for key, value in self.rnaCodonTable.items()}\n",
    "    def __init__ (self, inString=''): \n",
    "        self.codonComposition = {codon:0 for codon in self.rnaCodonTable}\n",
    "        self.aaComposition = {aa:0 for aa in self.rnaCodonTable.values()}\n",
    "        self.nucComposition = {nuc:0 for nuc in 'ACGTNU'}\n",
    "\n",
    "    def addSequence (self, inSeq): #inSeq for sequence\n",
    "        for index in range (0, len(inSeq), 3): #start, seqnece length read(end), and final is step (increments of 3)\n",
    "            codon = inSeq[index:index+3].upper()\n",
    "            for i in codon:\n",
    "                if i in self.nucComposition:\n",
    "                    codon = {}\n",
    "            #replace() this was required of me but didn't know its use\n",
    "            if codon in self.rnaCodonTable:\n",
    "                self.aaComp += 1\n",
    "                self.codonComp += 1\n",
    "\n",
    "        pass\n",
    "    def aaComposition(self):\n",
    "        return self.aaComp\n",
    "    def nucComposition(self):\n",
    "        return self.nucComp\n",
    "    def codonComposition(self):\n",
    "        return self.codonComp\n",
    "    def nucCount(self):\n",
    "        return sum(self.nucComp.values())\n",
    "  "
   ]
  },
  {
   "cell_type": "markdown",
   "metadata": {
    "slideshow": {
     "slide_type": "slide"
    }
   },
   "source": [
    "## FastAreader"
   ]
  },
  {
   "cell_type": "code",
   "execution_count": 3,
   "metadata": {
    "slideshow": {
     "slide_type": "slide"
    }
   },
   "outputs": [],
   "source": [
    "import sys\n",
    "class FastAreader :\n",
    "    ''' \n",
    "    Define objects to read FastA files.\n",
    "    \n",
    "    instantiation: \n",
    "    thisReader = FastAreader ('testTiny.fa')\n",
    "    usage:\n",
    "    for head, seq in thisReader.readFasta():\n",
    "        print (head,seq)\n",
    "    '''\n",
    "    def __init__ (self, fname=None):\n",
    "        '''contructor: saves attribute fname '''\n",
    "        self.fname = fname\n",
    "            \n",
    "    def doOpen (self):\n",
    "        ''' Handle file opens, allowing STDIN.'''\n",
    "        if self.fname is None:\n",
    "            return sys.stdin\n",
    "        else:\n",
    "            return open(self.fname)\n",
    "        \n",
    "    def readFasta (self):\n",
    "        ''' Read an entire FastA record and return the sequence header/sequence'''\n",
    "        header = ''\n",
    "        sequence = ''\n",
    "        \n",
    "        with self.doOpen() as fileH:\n",
    "            \n",
    "            header = ''\n",
    "            sequence = ''\n",
    "            \n",
    "            # skip to first fasta header\n",
    "            line = fileH.readline()\n",
    "            while not line.startswith('>') :\n",
    "                line = fileH.readline()\n",
    "            header = line[1:].rstrip()\n",
    "\n",
    "            for line in fileH:\n",
    "                if line.startswith ('>'):\n",
    "                    yield header,sequence\n",
    "                    header = line[1:].rstrip()\n",
    "                    sequence = ''\n",
    "                else :\n",
    "                    sequence += ''.join(line.rstrip().split()).upper()\n",
    "\n",
    "        yield header,sequence"
   ]
  },
  {
   "cell_type": "markdown",
   "metadata": {
    "slideshow": {
     "slide_type": "slide"
    }
   },
   "source": [
    "## Main \n",
    "Here is a jupyter framework that may come in handy"
   ]
  },
  {
   "cell_type": "code",
   "execution_count": 4,
   "metadata": {
    "slideshow": {
     "slide_type": "slide"
    }
   },
   "outputs": [
    {
     "ename": "ModuleNotFoundError",
     "evalue": "No module named 'sequenceAnalysis'",
     "output_type": "error",
     "traceback": [
      "\u001b[0;31m---------------------------------------------------------------------------\u001b[0m",
      "\u001b[0;31mModuleNotFoundError\u001b[0m                       Traceback (most recent call last)",
      "\u001b[0;32m/var/folders/_f/5vqy5txx3dzfx682r0zjk30w0000gn/T/ipykernel_10321/1145403592.py\u001b[0m in \u001b[0;36m<module>\u001b[0;34m\u001b[0m\n\u001b[0;32m----> 1\u001b[0;31m \u001b[0;32mimport\u001b[0m \u001b[0msequenceAnalysis\u001b[0m \u001b[0;32mas\u001b[0m \u001b[0mseqA\u001b[0m\u001b[0;34m\u001b[0m\u001b[0;34m\u001b[0m\u001b[0m\n\u001b[0m\u001b[1;32m      2\u001b[0m \u001b[0;32mdef\u001b[0m \u001b[0mmain\u001b[0m \u001b[0;34m(\u001b[0m\u001b[0mfileName\u001b[0m\u001b[0;34m=\u001b[0m\u001b[0;32mNone\u001b[0m\u001b[0;34m)\u001b[0m\u001b[0;34m:\u001b[0m\u001b[0;34m\u001b[0m\u001b[0;34m\u001b[0m\u001b[0m\n\u001b[1;32m      3\u001b[0m     \u001b[0mmyReader\u001b[0m \u001b[0;34m=\u001b[0m \u001b[0mFastAreader\u001b[0m\u001b[0;34m(\u001b[0m\u001b[0mfileName\u001b[0m\u001b[0;34m)\u001b[0m\u001b[0;34m\u001b[0m\u001b[0;34m\u001b[0m\u001b[0m\n\u001b[1;32m      4\u001b[0m     \u001b[0mmyNuc\u001b[0m \u001b[0;34m=\u001b[0m \u001b[0mNucParams\u001b[0m\u001b[0;34m(\u001b[0m\u001b[0;34m)\u001b[0m\u001b[0;34m\u001b[0m\u001b[0;34m\u001b[0m\u001b[0m\n\u001b[1;32m      5\u001b[0m     \u001b[0;32mfor\u001b[0m \u001b[0mhead\u001b[0m\u001b[0;34m,\u001b[0m \u001b[0mseq\u001b[0m \u001b[0;32min\u001b[0m \u001b[0mmyReader\u001b[0m\u001b[0;34m.\u001b[0m\u001b[0mreadFasta\u001b[0m\u001b[0;34m(\u001b[0m\u001b[0;34m)\u001b[0m \u001b[0;34m:\u001b[0m\u001b[0;34m\u001b[0m\u001b[0;34m\u001b[0m\u001b[0m\n",
      "\u001b[0;31mModuleNotFoundError\u001b[0m: No module named 'sequenceAnalysis'"
     ]
    }
   ],
   "source": [
    "def main (fileName=None):\n",
    "    myReader = FastAreader(fileName) \n",
    "    myNuc = NucParams()\n",
    "    for head, seq in myReader.readFasta() :\n",
    "        myNuc.addSequence(seq)\n",
    "        \n",
    "    # sort codons in alpha order, by Amino Acid\n",
    "    \n",
    "    # calculate relative codon usage for each codon and print\n",
    "    for nucI in nucs:\n",
    "        ...\n",
    "        print ('{:s} : {:s} {:5.1f} ({:6d})'.format(nuc, aa, val*100, thisCodonComp[nuc]))\n",
    "\n",
    "if __name__ == \"__main__\":\n",
    "    main('testGenome.fa') # make sure to change this in order to use stdin"
   ]
  },
  {
   "cell_type": "markdown",
   "metadata": {
    "nteract": {
     "transient": {
      "deleting": false
     }
    }
   },
   "source": [
    "## Inspection Results\n",
    "Who is your inspection team? What did they find? How did you decide to incorporate their suggestions?"
   ]
  }
 ],
 "metadata": {
  "kernelspec": {
   "display_name": "Python 3",
   "language": "python",
   "name": "python3"
  },
  "language_info": {
   "codemirror_mode": {
    "name": "ipython",
    "version": 3
   },
   "file_extension": ".py",
   "mimetype": "text/x-python",
   "name": "python",
   "nbconvert_exporter": "python",
   "pygments_lexer": "ipython3",
   "version": "3.11.1"
  },
  "nteract": {
   "version": "0.28.0"
  },
  "vscode": {
   "interpreter": {
    "hash": "aee8b7b246df8f9039afb4144a1f6fd8d2ca17a180786b69acc140d282b71a49"
   }
  }
 },
 "nbformat": 4,
 "nbformat_minor": 2
}
